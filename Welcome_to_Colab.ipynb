{
  "cells": [
    {
      "cell_type": "markdown",
      "metadata": {
        "id": "view-in-github",
        "colab_type": "text"
      },
      "source": [
        "<a href=\"https://colab.research.google.com/github/itsmeGowda14/Data-Analytics-Quiz/blob/main/Welcome_to_Colab.ipynb\" target=\"_parent\"><img src=\"https://colab.research.google.com/assets/colab-badge.svg\" alt=\"Open In Colab\"/></a>"
      ]
    },
    {
      "cell_type": "markdown",
      "metadata": {
        "id": "Wf5KrEb6vrkR"
      },
      "source": [
        "# Welcome to Colab!\n",
        "\n",
        "## Explore the Gemini API\n",
        "The Gemini API gives you access to Gemini models created by Google DeepMind. Gemini models are built from the ground up to be multimodal, so you can reason seamlessly across text, images, code and audio.\n",
        "\n",
        "**How to get started**\n",
        "*  Go to <a href=\"https://aistudio.google.com/\">Google AI Studio</a> and log in with your Google Account.\n",
        "*  <a href=\"https://aistudio.google.com/app/apikey\">Create an API key</a>.\n",
        "* Use a quickstart for <a href=\"https://colab.research.google.com/github/google-gemini/cookbook/blob/main/quickstarts/Get_started.ipynb\">Python</a> or call the REST API using <a href=\"https://colab.research.google.com/github/google-gemini/cookbook/blob/main/quickstarts/rest/Prompting_REST.ipynb\">curl</a>.\n",
        "\n",
        "**Discover Gemini's advanced capabilities**\n",
        "*  Play with Gemini <a href=\"https://colab.research.google.com/github/google-gemini/cookbook/blob/main/quickstarts/Image-out.ipynb\">multimodal outputs</a>, mixing text and images in an iterative way.\n",
        "*  Discover the <a href=\"https://colab.research.google.com/github/google-gemini/cookbook/blob/main/quickstarts/Get_started_LiveAPI.ipynb\">multimodal Live API</a> &#40;demo <a href=\"https://aistudio.google.com/live\">here</a>&#41;.\n",
        "*  Learn how to <a href=\"https://colab.research.google.com/github/google-gemini/cookbook/blob/main/quickstarts/Spatial_understanding.ipynb&quot;\">analyse images and detect items in your pictures</a> using Gemini &#40;bonus, there's a <a href=\"https://colab.research.google.com/github/google-gemini/cookbook/blob/main/examples/Spatial_understanding_3d.ipynb\">3D version</a> as well!&#41;.\n",
        "*  Unlock the power of the <a href=\"https://colab.research.google.com/github/google-gemini/cookbook/blob/main/quickstarts/Get_started_thinking.ipynb\">Gemini thinking model</a>, capable of solving complex tasks with its inner thoughts.\n",
        "      \n",
        "**Explore complex use cases**\n",
        "*  Use <a href=\"https://colab.research.google.com/github/google-gemini/cookbook/blob/main/examples/Search_grounding_for_research_report.ipynb\">Gemini grounding capabilities</a> to create a report on a company based on what the model can find on the Internet.\n",
        "*  Extract <a href=\"https://colab.research.google.com/github/google-gemini/cookbook/blob/main/examples/Pdf_structured_outputs_on_invoices_and_forms.ipynb\">invoices and form data from PDFs</a> in a structured way.\n",
        "*  Create <a href=\"https://colab.research.google.com/github/google-gemini/cookbook/blob/main/examples/Book_illustration.ipynb\">illustrations based on a whole book</a> using Gemini large context window and Imagen.\n",
        "\n",
        "To learn more, take a look at the <a href=\"https://github.com/google-gemini/cookbook\">Gemini cookbook</a> or visit the <a href=\"https://ai.google.dev/docs/\">Gemini API documentation</a>.\n"
      ]
    },
    {
      "cell_type": "code",
      "source": [
        "import numpy as np\n",
        "import pandas as pd\n",
        "from sklearn.model_selection import train_test_split\n",
        "from sklearn.linear_model import LogisticRegression\n",
        "from sklearn.metrics import accuracy_score, confusion_matrix, classification_report"
      ],
      "metadata": {
        "id": "xyUU3Ia-U0Rj"
      },
      "execution_count": 1,
      "outputs": []
    },
    {
      "cell_type": "code",
      "source": [
        "np.random.seed(0)\n",
        "X = np.random.rand(100, 2)\n",
        "y = (X[:, 0] + X[:, 1] > 1).astype(int)\n",
        "X_train, X_test, y_train, y_test = train_test_split(X, y, test_size=0.2, random_state=42)"
      ],
      "metadata": {
        "id": "7e7oMl-3V3MZ"
      },
      "execution_count": 2,
      "outputs": []
    },
    {
      "cell_type": "code",
      "source": [
        "log_reg = LogisticRegression()\n",
        "log_reg.fit(X_train, y_train)\n",
        "y_pred = log_reg.predict(X_test)"
      ],
      "metadata": {
        "id": "lCZoogh6V5yr"
      },
      "execution_count": 4,
      "outputs": []
    },
    {
      "cell_type": "code",
      "source": [
        "accuracy = accuracy_score(y_test, y_pred)\n",
        "conf_matrix = confusion_matrix(y_test, y_pred)\n",
        "class_report = classification_report(y_test, y_pred)\n",
        "# Print the evaluation results\n",
        "print(f\"Accuracy: {accuracy}\")\n",
        "print(\"Confusion Matrix:\")\n",
        "print(conf_matrix)\n",
        "print(\"Classification Report:\")\n",
        "print(class_report)"
      ],
      "metadata": {
        "id": "2l9vOWakV5O7",
        "outputId": "23315e2b-8ddf-49db-bd62-09a550547ee9",
        "colab": {
          "base_uri": "https://localhost:8080/"
        }
      },
      "execution_count": 5,
      "outputs": [
        {
          "output_type": "stream",
          "name": "stdout",
          "text": [
            "Accuracy: 0.9\n",
            "Confusion Matrix:\n",
            "[[ 8  2]\n",
            " [ 0 10]]\n",
            "Classification Report:\n",
            "              precision    recall  f1-score   support\n",
            "\n",
            "           0       1.00      0.80      0.89        10\n",
            "           1       0.83      1.00      0.91        10\n",
            "\n",
            "    accuracy                           0.90        20\n",
            "   macro avg       0.92      0.90      0.90        20\n",
            "weighted avg       0.92      0.90      0.90        20\n",
            "\n"
          ]
        }
      ]
    }
  ],
  "metadata": {
    "colab": {
      "name": "Welcome to Colab",
      "toc_visible": true,
      "provenance": [],
      "include_colab_link": true
    },
    "kernelspec": {
      "display_name": "Python 3",
      "name": "python3"
    }
  },
  "nbformat": 4,
  "nbformat_minor": 0
}